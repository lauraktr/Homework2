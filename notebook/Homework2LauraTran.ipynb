{
 "cells": [
  {
   "cell_type": "markdown",
   "id": "f0c81e25",
   "metadata": {},
   "source": [
    "# Laura Tran Homework 2"
   ]
  },
  {
   "cell_type": "code",
   "execution_count": 23,
   "id": "cd14833b",
   "metadata": {},
   "outputs": [],
   "source": [
    "import pandas as pd\n",
    "import numpy as np\n",
    "import matplotlib.pyplot as plt\n",
    "import random\n",
    "import seaborn as sns\n",
    "\n",
    "from sklearn.metrics import mean_squared_error\n",
    "from sklearn.metrics import r2_score"
   ]
  },
  {
   "cell_type": "code",
   "execution_count": 24,
   "id": "68957bec",
   "metadata": {},
   "outputs": [],
   "source": [
    "data = pd.read_csv(\"Possum.csv\")"
   ]
  },
  {
   "cell_type": "code",
   "execution_count": 25,
   "id": "70dd7c6a",
   "metadata": {},
   "outputs": [
    {
     "data": {
      "text/html": [
       "<div>\n",
       "<style scoped>\n",
       "    .dataframe tbody tr th:only-of-type {\n",
       "        vertical-align: middle;\n",
       "    }\n",
       "\n",
       "    .dataframe tbody tr th {\n",
       "        vertical-align: top;\n",
       "    }\n",
       "\n",
       "    .dataframe thead th {\n",
       "        text-align: right;\n",
       "    }\n",
       "</style>\n",
       "<table border=\"1\" class=\"dataframe\">\n",
       "  <thead>\n",
       "    <tr style=\"text-align: right;\">\n",
       "      <th></th>\n",
       "      <th>case</th>\n",
       "      <th>site</th>\n",
       "      <th>Pop</th>\n",
       "      <th>sex</th>\n",
       "      <th>age</th>\n",
       "      <th>hdlngth</th>\n",
       "      <th>skullw</th>\n",
       "      <th>totlngth</th>\n",
       "      <th>taill</th>\n",
       "      <th>footlgth</th>\n",
       "      <th>earconch</th>\n",
       "      <th>eye</th>\n",
       "      <th>chest</th>\n",
       "      <th>belly</th>\n",
       "    </tr>\n",
       "  </thead>\n",
       "  <tbody>\n",
       "    <tr>\n",
       "      <th>0</th>\n",
       "      <td>1</td>\n",
       "      <td>1</td>\n",
       "      <td>Vic</td>\n",
       "      <td>m</td>\n",
       "      <td>8.0</td>\n",
       "      <td>94.1</td>\n",
       "      <td>60.4</td>\n",
       "      <td>89.0</td>\n",
       "      <td>36.0</td>\n",
       "      <td>74.5</td>\n",
       "      <td>54.5</td>\n",
       "      <td>15.2</td>\n",
       "      <td>28.0</td>\n",
       "      <td>36.0</td>\n",
       "    </tr>\n",
       "    <tr>\n",
       "      <th>1</th>\n",
       "      <td>2</td>\n",
       "      <td>1</td>\n",
       "      <td>Vic</td>\n",
       "      <td>f</td>\n",
       "      <td>6.0</td>\n",
       "      <td>92.5</td>\n",
       "      <td>57.6</td>\n",
       "      <td>91.5</td>\n",
       "      <td>36.5</td>\n",
       "      <td>72.5</td>\n",
       "      <td>51.2</td>\n",
       "      <td>16.0</td>\n",
       "      <td>28.5</td>\n",
       "      <td>33.0</td>\n",
       "    </tr>\n",
       "    <tr>\n",
       "      <th>2</th>\n",
       "      <td>3</td>\n",
       "      <td>1</td>\n",
       "      <td>Vic</td>\n",
       "      <td>f</td>\n",
       "      <td>6.0</td>\n",
       "      <td>94.0</td>\n",
       "      <td>60.0</td>\n",
       "      <td>95.5</td>\n",
       "      <td>39.0</td>\n",
       "      <td>75.4</td>\n",
       "      <td>51.9</td>\n",
       "      <td>15.5</td>\n",
       "      <td>30.0</td>\n",
       "      <td>34.0</td>\n",
       "    </tr>\n",
       "    <tr>\n",
       "      <th>3</th>\n",
       "      <td>4</td>\n",
       "      <td>1</td>\n",
       "      <td>Vic</td>\n",
       "      <td>f</td>\n",
       "      <td>6.0</td>\n",
       "      <td>93.2</td>\n",
       "      <td>57.1</td>\n",
       "      <td>92.0</td>\n",
       "      <td>38.0</td>\n",
       "      <td>76.1</td>\n",
       "      <td>52.2</td>\n",
       "      <td>15.2</td>\n",
       "      <td>28.0</td>\n",
       "      <td>34.0</td>\n",
       "    </tr>\n",
       "    <tr>\n",
       "      <th>4</th>\n",
       "      <td>5</td>\n",
       "      <td>1</td>\n",
       "      <td>Vic</td>\n",
       "      <td>f</td>\n",
       "      <td>2.0</td>\n",
       "      <td>91.5</td>\n",
       "      <td>56.3</td>\n",
       "      <td>85.5</td>\n",
       "      <td>36.0</td>\n",
       "      <td>71.0</td>\n",
       "      <td>53.2</td>\n",
       "      <td>15.1</td>\n",
       "      <td>28.5</td>\n",
       "      <td>33.0</td>\n",
       "    </tr>\n",
       "  </tbody>\n",
       "</table>\n",
       "</div>"
      ],
      "text/plain": [
       "   case  site  Pop sex  age  hdlngth  skullw  totlngth  taill  footlgth  \\\n",
       "0     1     1  Vic   m  8.0     94.1    60.4      89.0   36.0      74.5   \n",
       "1     2     1  Vic   f  6.0     92.5    57.6      91.5   36.5      72.5   \n",
       "2     3     1  Vic   f  6.0     94.0    60.0      95.5   39.0      75.4   \n",
       "3     4     1  Vic   f  6.0     93.2    57.1      92.0   38.0      76.1   \n",
       "4     5     1  Vic   f  2.0     91.5    56.3      85.5   36.0      71.0   \n",
       "\n",
       "   earconch   eye  chest  belly  \n",
       "0      54.5  15.2   28.0   36.0  \n",
       "1      51.2  16.0   28.5   33.0  \n",
       "2      51.9  15.5   30.0   34.0  \n",
       "3      52.2  15.2   28.0   34.0  \n",
       "4      53.2  15.1   28.5   33.0  "
      ]
     },
     "execution_count": 25,
     "metadata": {},
     "output_type": "execute_result"
    }
   ],
   "source": [
    "data.head()"
   ]
  },
  {
   "cell_type": "markdown",
   "id": "c54c5d17",
   "metadata": {},
   "source": [
    "### Use a method of curve fitting discussed in class to predict a possum's total length based on its head length. Make sure to visualize the data."
   ]
  },
  {
   "cell_type": "code",
   "execution_count": 26,
   "id": "c35266e7",
   "metadata": {},
   "outputs": [],
   "source": [
    "from scipy.optimize import curve_fit"
   ]
  },
  {
   "cell_type": "code",
   "execution_count": 27,
   "id": "38cbe8e4",
   "metadata": {},
   "outputs": [],
   "source": [
    "def linear_line(x, m, b):\n",
    "    return m*x+b"
   ]
  },
  {
   "cell_type": "code",
   "execution_count": 28,
   "id": "8ccf2e85",
   "metadata": {},
   "outputs": [
    {
     "name": "stdout",
     "output_type": "stream",
     "text": [
      "[0.8336698  9.88823298]\n",
      "[[ 7.45261273e-03 -6.90133423e-01]\n",
      " [-6.90133423e-01  6.40025906e+01]]\n"
     ]
    }
   ],
   "source": [
    "opt, cov = curve_fit(linear_line, data.hdlngth, data.totlngth)\n",
    "print(opt)\n",
    "print(cov)"
   ]
  },
  {
   "cell_type": "code",
   "execution_count": 29,
   "id": "113ee0bb",
   "metadata": {},
   "outputs": [
    {
     "data": {
      "text/plain": [
       "[<matplotlib.lines.Line2D at 0x2a68acfb3a0>]"
      ]
     },
     "execution_count": 29,
     "metadata": {},
     "output_type": "execute_result"
    },
    {
     "data": {
      "image/png": "[encoded data removed]",
      "text/plain": [
       "<Figure size 432x288 with 1 Axes>"
      ]
     },
     "metadata": {
      "needs_background": "light"
     },
     "output_type": "display_data"
    }
   ],
   "source": [
    "plt.scatter(data.hdlngth, data.totlngth)\n",
    "\n",
    "plt.plot(data.hdlngth, linear_line(data.hdlngth, opt[0], opt[1]))"
   ]
  },
  {
   "cell_type": "markdown",
   "id": "e88be5de",
   "metadata": {},
   "source": [
    "### 1. How well does the method describe the data?"
   ]
  },
  {
   "cell_type": "markdown",
   "id": "68d6288f",
   "metadata": {},
   "source": [
    "#### You can see that the curve fit doesn't really describe the data that well because the data points are far from the line."
   ]
  },
  {
   "cell_type": "markdown",
   "id": "14651320",
   "metadata": {},
   "source": [
    "### 2. If you perform regression for male and female possums separately, does this increase our accuracy?"
   ]
  },
  {
   "cell_type": "code",
   "execution_count": 30,
   "id": "dd61797b",
   "metadata": {},
   "outputs": [],
   "source": [
    "data_f = data.loc[data['sex'] == 'f']"
   ]
  },
  {
   "cell_type": "code",
   "execution_count": 31,
   "id": "e5803e7e",
   "metadata": {},
   "outputs": [
    {
     "data": {
      "text/plain": [
       "[<matplotlib.lines.Line2D at 0x2a68ad46820>]"
      ]
     },
     "execution_count": 31,
     "metadata": {},
     "output_type": "execute_result"
    },
    {
     "data": {
      "image/png": "[encoded data removed]",
      "text/plain": [
       "<Figure size 432x288 with 1 Axes>"
      ]
     },
     "metadata": {
      "needs_background": "light"
     },
     "output_type": "display_data"
    }
   ],
   "source": [
    "plt.scatter(data_f.hdlngth, data_f.totlngth)\n",
    "\n",
    "plt.plot(data_f.hdlngth, linear_line(data_f.hdlngth, opt[0], opt[1]))"
   ]
  },
  {
   "cell_type": "code",
   "execution_count": 32,
   "id": "b293d15c",
   "metadata": {},
   "outputs": [
    {
     "name": "stderr",
     "output_type": "stream",
     "text": [
      "C:\\Users\\Student\\AppData\\Local\\Temp\\ipykernel_4296\\1864228587.py:1: UserWarning: Pandas doesn't allow columns to be created via a new attribute name - see https://pandas.pydata.org/pandas-docs/stable/indexing.html#attribute-access\n",
      "  data_f.totlngth_pred = linear_line(data_f.hdlngth, *opt)\n"
     ]
    }
   ],
   "source": [
    "data_f.totlngth_pred = linear_line(data_f.hdlngth, *opt)"
   ]
  },
  {
   "cell_type": "code",
   "execution_count": 33,
   "id": "290692d6",
   "metadata": {},
   "outputs": [
    {
     "name": "stdout",
     "output_type": "stream",
     "text": [
      "0.4526029275679738\n",
      "9.351934083858993\n"
     ]
    }
   ],
   "source": [
    "print(r2_score(data_f.totlngth, data_f.totlngth_pred))\n",
    "print(mean_squared_error(data_f.totlngth, data_f.totlngth_pred))"
   ]
  },
  {
   "cell_type": "code",
   "execution_count": 34,
   "id": "530eed2a",
   "metadata": {},
   "outputs": [],
   "source": [
    "data_m = data.loc[data['sex'] == 'm']"
   ]
  },
  {
   "cell_type": "code",
   "execution_count": 35,
   "id": "75b7a75a",
   "metadata": {},
   "outputs": [
    {
     "data": {
      "text/plain": [
       "[<matplotlib.lines.Line2D at 0x2a68bd76fa0>]"
      ]
     },
     "execution_count": 35,
     "metadata": {},
     "output_type": "execute_result"
    },
    {
     "data": {
      "image/png": "[encoded data removed]",
      "text/plain": [
       "<Figure size 432x288 with 1 Axes>"
      ]
     },
     "metadata": {
      "needs_background": "light"
     },
     "output_type": "display_data"
    }
   ],
   "source": [
    "plt.scatter(data_m.hdlngth, data_m.totlngth)\n",
    "\n",
    "plt.plot(data_m.hdlngth, linear_line(data_m.hdlngth, opt[0], opt[1]))"
   ]
  },
  {
   "cell_type": "code",
   "execution_count": 36,
   "id": "031974a5",
   "metadata": {},
   "outputs": [
    {
     "name": "stderr",
     "output_type": "stream",
     "text": [
      "C:\\Users\\Student\\AppData\\Local\\Temp\\ipykernel_4296\\1504968055.py:1: UserWarning: Pandas doesn't allow columns to be created via a new attribute name - see https://pandas.pydata.org/pandas-docs/stable/indexing.html#attribute-access\n",
      "  data_m.totlngth_pred = linear_line(data_m.hdlngth, *opt)\n"
     ]
    }
   ],
   "source": [
    "data_m.totlngth_pred = linear_line(data_m.hdlngth, *opt)"
   ]
  },
  {
   "cell_type": "code",
   "execution_count": 37,
   "id": "4a4602ef",
   "metadata": {},
   "outputs": [
    {
     "name": "stdout",
     "output_type": "stream",
     "text": [
      "0.47116267487586594\n",
      "9.797205323147594\n"
     ]
    }
   ],
   "source": [
    "print(r2_score(data_m.totlngth, data_m.totlngth_pred))\n",
    "print(mean_squared_error(data_m.totlngth, data_m.totlngth_pred))"
   ]
  },
  {
   "cell_type": "markdown",
   "id": "28d1ce24",
   "metadata": {},
   "source": [
    "#### The accuracy isn't increased, and the accuracy is still bad."
   ]
  },
  {
   "cell_type": "markdown",
   "id": "cbdeeca4",
   "metadata": {},
   "source": [
    "## What are the three best classifiers?"
   ]
  },
  {
   "cell_type": "code",
   "execution_count": 38,
   "id": "4049cff0",
   "metadata": {},
   "outputs": [],
   "source": [
    "from sklearn.linear_model import Lasso"
   ]
  },
  {
   "cell_type": "code",
   "execution_count": 39,
   "id": "e5f21ae1",
   "metadata": {},
   "outputs": [],
   "source": [
    "from sklearn.model_selection import train_test_split"
   ]
  },
  {
   "cell_type": "code",
   "execution_count": 40,
   "id": "8a2faec4",
   "metadata": {},
   "outputs": [],
   "source": [
    "data = data.dropna()"
   ]
  },
  {
   "cell_type": "code",
   "execution_count": 41,
   "id": "ad2e3222",
   "metadata": {},
   "outputs": [],
   "source": [
    "lasso_hdlngth = np.array(data.hdlngth).reshape(-1,1)"
   ]
  },
  {
   "cell_type": "code",
   "execution_count": 46,
   "id": "8a688e88",
   "metadata": {},
   "outputs": [],
   "source": [
    "data['sex_num'] = data['sex'].replace(['f', 'm'], [0,1], inplace=False)"
   ]
  },
  {
   "cell_type": "code",
   "execution_count": 50,
   "id": "2690d0d0",
   "metadata": {},
   "outputs": [
    {
     "name": "stdout",
     "output_type": "stream",
     "text": [
      "[0 1 1 1 0 0 0 1 0 1 0 0 1 1 0 0 0 1 1 1 0]\n"
     ]
    }
   ],
   "source": [
    "train, test = train_test_split(data, test_size=0.2, random_state= 1010)\n",
    "\n",
    "x = train[['age', 'hdlngth', 'skullw', 'taill', 'footlgth', 'earconch', 'eye', 'chest', 'belly']].values\n",
    "y = train['sex'].values\n",
    "y_num = train['sex_num'].values\n",
    "\n",
    "test_x = test[['age', 'hdlngth', 'skullw', 'taill', 'footlgth', 'earconch', 'eye', 'chest', 'belly']].values\n",
    "test_y = test['sex'].values\n",
    "test_y_num = test['sex_num'].values\n",
    "\n",
    "print(test_y_num)\n"
   ]
  },
  {
   "cell_type": "code",
   "execution_count": 58,
   "id": "6e5d5376",
   "metadata": {},
   "outputs": [
    {
     "data": {
      "text/plain": [
       "Lasso(alpha=0.12)"
      ]
     },
     "execution_count": 58,
     "metadata": {},
     "output_type": "execute_result"
    }
   ],
   "source": [
    "lasso = Lasso(alpha=0.12)\n",
    "lasso.fit(x, y_num)"
   ]
  },
  {
   "cell_type": "code",
   "execution_count": 59,
   "id": "f16272e3",
   "metadata": {},
   "outputs": [],
   "source": [
    "lasso_train = lasso.predict(x)\n",
    "lasso_test = lasso.predict(test_x)"
   ]
  },
  {
   "cell_type": "code",
   "execution_count": 60,
   "id": "a022e4e8",
   "metadata": {},
   "outputs": [
    {
     "name": "stdout",
     "output_type": "stream",
     "text": [
      "[-0.          0.00815008  0.         -0.         -0.01056065 -0.\n",
      "  0.         -0.00349795 -0.00195705]\n"
     ]
    }
   ],
   "source": [
    "print(lasso.coef_)"
   ]
  },
  {
   "cell_type": "markdown",
   "id": "a793c657",
   "metadata": {},
   "source": [
    "### The three best classifiers are belly, footlgth, and chest."
   ]
  },
  {
   "cell_type": "code",
   "execution_count": 61,
   "id": "ecc88869",
   "metadata": {},
   "outputs": [],
   "source": [
    "from sklearn.model_selection import train_test_split\n",
    "from sklearn.linear_model import LogisticRegression\n",
    "from sklearn.metrics import classification_report, confusion_matrix"
   ]
  },
  {
   "cell_type": "code",
   "execution_count": null,
   "id": "7542890e",
   "metadata": {},
   "outputs": [],
   "source": []
  }
 ],
 "metadata": {
  "kernelspec": {
   "display_name": "Python 3 (ipykernel)",
   "language": "python",
   "name": "python3"
  },
  "language_info": {
   "codemirror_mode": {
    "name": "ipython",
    "version": 3
   },
   "file_extension": ".py",
   "mimetype": "text/x-python",
   "name": "python",
   "nbconvert_exporter": "python",
   "pygments_lexer": "ipython3",
   "version": "3.9.12"
  }
 },
 "nbformat": 4,
 "nbformat_minor": 5
}
